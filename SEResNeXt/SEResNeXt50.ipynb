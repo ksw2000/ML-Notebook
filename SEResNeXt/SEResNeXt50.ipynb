{
  "nbformat": 4,
  "nbformat_minor": 2,
  "metadata": {
    "orig_nbformat": 4,
    "language_info": {
      "name": "python",
      "version": "3.8.0",
      "mimetype": "text/x-python",
      "codemirror_mode": {
        "name": "ipython",
        "version": 3
      },
      "pygments_lexer": "ipython3",
      "nbconvert_exporter": "python",
      "file_extension": ".py"
    },
    "kernelspec": {
      "name": "python3",
      "display_name": "Python 3.8.0 64-bit"
    },
    "interpreter": {
      "hash": "2db524e06e9f5f4ffedc911c917cb75e12dbc923643829bf417064a77eb14d37"
    },
    "colab": {
      "name": "ResNeXt50.ipynb",
      "provenance": [],
      "collapsed_sections": []
    },
    "accelerator": "GPU"
  },
  "cells": [
    {
      "cell_type": "markdown",
      "source": [
        "# SEResNeXt50\r\n",
        "\r\n",
        "implemented by Tensorflow\r\n",
        "\r\n",
        "SEResNeXt = ResNeXt + SE 模組\r\n",
        "\r\n",
        "![](https://i.imgur.com/Mzhp8Bu.png)\r\n"
      ],
      "metadata": {
        "id": "jZxLoyzSzlR7"
      }
    },
    {
      "cell_type": "code",
      "execution_count": 22,
      "source": [
        "from tensorflow.keras import layers, models\r\n",
        "import tensorflow as tf"
      ],
      "outputs": [],
      "metadata": {}
    },
    {
      "cell_type": "markdown",
      "source": [
        "## SEBlock\r\n",
        "\r\n",
        "Reference:\r\n",
        "\r\n",
        "+ [https://github.com/titu1994/keras-squeeze-excite-network](https://github.com/titu1994/keras-squeeze-excite-network)"
      ],
      "metadata": {}
    },
    {
      "cell_type": "code",
      "execution_count": 23,
      "source": [
        "# reference https://github.com/titu1994/keras-squeeze-excite-network\r\n",
        "\r\n",
        "class SEBlock(tf.keras.Model):\r\n",
        "    def __init__(self, ratio=16):\r\n",
        "        super().__init__()\r\n",
        "        self.ratio = ratio\r\n",
        "        self.gap = layers.GlobalAveragePooling2D()\r\n",
        "\r\n",
        "    def build(self, input_shape):\r\n",
        "        filters = input_shape[-1]\r\n",
        "        self.reshape = layers.Reshape((1, 1, filters))\r\n",
        "        self.fc1 = layers.Dense(\r\n",
        "            filters // self.ratio, kernel_initializer='he_normal', use_bias=False, activation='relu')\r\n",
        "        self.fc2 = layers.Dense(\r\n",
        "            filters, kernel_initializer='he_normal', use_bias=False, activation='sigmoid')\r\n",
        "\r\n",
        "    def call(self, input):\r\n",
        "        x = self.gap(input)\r\n",
        "        x = self.reshape(x)\r\n",
        "        x = self.fc1(x)\r\n",
        "        x = self.fc2(x)\r\n",
        "        return tf.multiply(x, input)\r\n"
      ],
      "outputs": [],
      "metadata": {}
    },
    {
      "cell_type": "markdown",
      "source": [
        "## SEResNeXt Unit (aka ResNext BottleNeck)"
      ],
      "metadata": {
        "id": "VJGyK4M3zlSB"
      }
    },
    {
      "cell_type": "code",
      "execution_count": 24,
      "source": [
        "# reference: https://github.com/calmisential/ResNeXt_TensorFlow2/blob/master/resnext_block.py\r\n",
        "\r\n",
        "class SEResNeXtUnit(tf.keras.Model):\r\n",
        "    def __init__(self, filters, strides, cardinality=32):\r\n",
        "        super().__init__()\r\n",
        "        self.conv1x1_1 = layers.Conv2D(filters, 1, 1)\r\n",
        "        self.bn1 = layers.BatchNormalization()\r\n",
        "        self.relu1 = layers.ReLU()\r\n",
        "\r\n",
        "        self.conv3x3 = layers.Conv2D(\r\n",
        "            filters, 3, strides, groups=cardinality, padding='same')\r\n",
        "        self.bn2 = layers.BatchNormalization()\r\n",
        "        self.relu2 = layers.ReLU()\r\n",
        "\r\n",
        "        self.conv1x1_2 = layers.Conv2D(filters*2, 1, 1)\r\n",
        "        self.bn3 = layers.BatchNormalization()\r\n",
        "        self.relu3 = layers.ReLU()\r\n",
        "\r\n",
        "        self.seBlock = SEBlock()\r\n",
        "\r\n",
        "        self.sortcut = models.Sequential([\r\n",
        "            layers.Conv2D(filters*2, 1, strides, padding='same'),\r\n",
        "            layers.BatchNormalization()\r\n",
        "        ])\r\n",
        "\r\n",
        "    def call(self, input):\r\n",
        "        x = input\r\n",
        "        x = self.conv1x1_1(x)\r\n",
        "        x = self.bn1(x)\r\n",
        "        x = self.relu1(x)\r\n",
        "\r\n",
        "        x = self.conv3x3(x)\r\n",
        "        x = self.bn2(x)\r\n",
        "        x = self.relu2(x)\r\n",
        "\r\n",
        "        x = self.conv1x1_2(x)\r\n",
        "        x = self.bn3(x)\r\n",
        "        x = self.relu3(x)\r\n",
        "\r\n",
        "        # Add SEBlock here\r\n",
        "        x = self.seBlock(x)\r\n",
        "\r\n",
        "        shortcut = self.sortcut(input)\r\n",
        "        return tf.nn.relu(tf.add(x, shortcut))\r\n"
      ],
      "outputs": [],
      "metadata": {
        "id": "TPmwCm5rZXkV"
      }
    },
    {
      "cell_type": "markdown",
      "source": [
        "## Stage"
      ],
      "metadata": {}
    },
    {
      "cell_type": "markdown",
      "source": [
        "![](https://i.imgur.com/oU305Wc.png)"
      ],
      "metadata": {
        "id": "nKWEbrpIZXkW"
      }
    },
    {
      "cell_type": "code",
      "execution_count": 25,
      "source": [
        "def stage(inputs, filters, strides, units):\r\n",
        "    output = SEResNeXtUnit(filters=filters, strides=strides)(inputs)\r\n",
        "\r\n",
        "    for _ in range(1, units):\r\n",
        "        output = SEResNeXtUnit(filters=filters, strides=1)(output)\r\n",
        "\r\n",
        "    return output\r\n"
      ],
      "outputs": [],
      "metadata": {
        "id": "GI37qT_rZXkW"
      }
    },
    {
      "cell_type": "markdown",
      "source": [
        "## SEResNeXt50"
      ],
      "metadata": {}
    },
    {
      "cell_type": "code",
      "execution_count": 26,
      "source": [
        "def SEResNeXt50(input_shape, outputs=1000):\r\n",
        "    input = layers.Input(shape=input_shape)\r\n",
        "\r\n",
        "    x = layers.BatchNormalization()(input)\r\n",
        "    x = layers.Conv2D(64, 7, strides=2, padding='same')(x)\r\n",
        "    x = layers.BatchNormalization()(x)\r\n",
        "    x = layers.Activation('relu')(x)\r\n",
        "    x = layers.MaxPooling2D((3, 3), strides=2, padding='same')(x)\r\n",
        "\r\n",
        "    x = stage(x, units=3, filters=128, strides=1)\r\n",
        "    x = stage(x, units=4, filters=256, strides=2)\r\n",
        "    x = stage(x, units=6, filters=512, strides=2)\r\n",
        "    x = stage(x, units=3, filters=1024, strides=2)\r\n",
        "    \r\n",
        "    x = layers.GlobalAveragePooling2D()(x)\r\n",
        "    x = layers.Dense(outputs, activation='softmax')(x)\r\n",
        "    \r\n",
        "    return models.Model(input, x)\r\n"
      ],
      "outputs": [],
      "metadata": {
        "id": "8IrB-pXaZXkX"
      }
    },
    {
      "cell_type": "markdown",
      "source": [
        "## Preview"
      ],
      "metadata": {
        "id": "WtMKcghdzlSE"
      }
    },
    {
      "cell_type": "code",
      "execution_count": 27,
      "source": [
        "import gc\r\n",
        "tf.keras.backend.clear_session()\r\n",
        "gc.collect()"
      ],
      "outputs": [
        {
          "output_type": "execute_result",
          "data": {
            "text/plain": [
              "30128"
            ]
          },
          "metadata": {},
          "execution_count": 27
        }
      ],
      "metadata": {}
    },
    {
      "cell_type": "code",
      "execution_count": 28,
      "source": [
        "m = SEResNeXt50((224, 224, 3), outputs=1000)\r\n",
        "m.summary()\r\n"
      ],
      "outputs": [
        {
          "output_type": "stream",
          "name": "stdout",
          "text": [
            "Model: \"model\"\n",
            "_________________________________________________________________\n",
            "Layer (type)                 Output Shape              Param #   \n",
            "=================================================================\n",
            "input_1 (InputLayer)         [(None, 224, 224, 3)]     0         \n",
            "_________________________________________________________________\n",
            "batch_normalization (BatchNo (None, 224, 224, 3)       12        \n",
            "_________________________________________________________________\n",
            "conv2d (Conv2D)              (None, 112, 112, 64)      9472      \n",
            "_________________________________________________________________\n",
            "batch_normalization_1 (Batch (None, 112, 112, 64)      256       \n",
            "_________________________________________________________________\n",
            "activation (Activation)      (None, 112, 112, 64)      0         \n",
            "_________________________________________________________________\n",
            "max_pooling2d (MaxPooling2D) (None, 56, 56, 64)        0         \n",
            "_________________________________________________________________\n",
            "se_res_ne_xt_unit (SEResNeXt (None, 56, 56, 256)       73984     \n",
            "_________________________________________________________________\n",
            "se_res_ne_xt_unit_1 (SEResNe (None, 56, 56, 256)       147712    \n",
            "_________________________________________________________________\n",
            "se_res_ne_xt_unit_2 (SEResNe (None, 56, 56, 256)       147712    \n",
            "_________________________________________________________________\n",
            "se_res_ne_xt_unit_3 (SEResNe (None, 28, 28, 512)       386560    \n",
            "_________________________________________________________________\n",
            "se_res_ne_xt_unit_4 (SEResNe (None, 28, 28, 512)       583168    \n",
            "_________________________________________________________________\n",
            "se_res_ne_xt_unit_5 (SEResNe (None, 28, 28, 512)       583168    \n",
            "_________________________________________________________________\n",
            "se_res_ne_xt_unit_6 (SEResNe (None, 28, 28, 512)       583168    \n",
            "_________________________________________________________________\n",
            "se_res_ne_xt_unit_7 (SEResNe (None, 14, 14, 1024)      1530880   \n",
            "_________________________________________________________________\n",
            "se_res_ne_xt_unit_8 (SEResNe (None, 14, 14, 1024)      2317312   \n",
            "_________________________________________________________________\n",
            "se_res_ne_xt_unit_9 (SEResNe (None, 14, 14, 1024)      2317312   \n",
            "_________________________________________________________________\n",
            "se_res_ne_xt_unit_10 (SEResN (None, 14, 14, 1024)      2317312   \n",
            "_________________________________________________________________\n",
            "se_res_ne_xt_unit_11 (SEResN (None, 14, 14, 1024)      2317312   \n",
            "_________________________________________________________________\n",
            "se_res_ne_xt_unit_12 (SEResN (None, 14, 14, 1024)      2317312   \n",
            "_________________________________________________________________\n",
            "se_res_ne_xt_unit_13 (SEResN (None, 7, 7, 2048)        6092800   \n",
            "_________________________________________________________________\n",
            "se_res_ne_xt_unit_14 (SEResN (None, 7, 7, 2048)        9238528   \n",
            "_________________________________________________________________\n",
            "se_res_ne_xt_unit_15 (SEResN (None, 7, 7, 2048)        9238528   \n",
            "_________________________________________________________________\n",
            "global_average_pooling2d_16  (None, 2048)              0         \n",
            "_________________________________________________________________\n",
            "dense (Dense)                (None, 1000)              2049000   \n",
            "=================================================================\n",
            "Total params: 42,251,508\n",
            "Trainable params: 42,160,750\n",
            "Non-trainable params: 90,758\n",
            "_________________________________________________________________\n"
          ]
        }
      ],
      "metadata": {
        "colab": {
          "base_uri": "https://localhost:8080/"
        },
        "id": "xJvAsqSfZXkY",
        "outputId": "99857602-a0c9-4334-e2dc-30f68df0f995"
      }
    }
  ]
}