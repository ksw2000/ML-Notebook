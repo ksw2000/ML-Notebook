{
 "cells": [
  {
   "cell_type": "markdown",
   "source": [
    "# SKNet\r\n",
    "\r\n",
    "+ M = 2\r\n",
    "+ kernel_size = 3\r\n",
    "+ kernel_size = 5\r\n",
    "\r\n",
    "Refernence:\r\n",
    "\r\n",
    "+ [https://liaowc.github.io/blog/SKNet-structure/](https://liaowc.github.io/blog/SKNet-structure/)"
   ],
   "metadata": {}
  },
  {
   "cell_type": "markdown",
   "source": [
    "![](https://i.imgur.com/HvOPnHS.png)\r\n",
    "\r\n",
    "+ M：是分支數，也就是有幾種 kernel size。\r\n",
    "+ G：是各分支的卷積層做分組卷積的分組數。\r\n",
    "+ r： z 的維度為 d=max(C/r,L)d=max(C/r,L)，r 是控制用的比例（L 是 d 的最小值）。"
   ],
   "metadata": {}
  },
  {
   "cell_type": "code",
   "execution_count": 8,
   "source": [
    "import tensorflow as tf\r\n",
    "from tensorflow.keras import layers, models"
   ],
   "outputs": [],
   "metadata": {}
  },
  {
   "cell_type": "markdown",
   "source": [
    "## Build Model"
   ],
   "metadata": {}
  },
  {
   "cell_type": "markdown",
   "source": [
    "![](https://i.imgur.com/6AsDeo9.png)\r\n"
   ],
   "metadata": {}
  },
  {
   "cell_type": "code",
   "execution_count": 9,
   "source": [
    "class SKUnit(tf.keras.Model):\r\n",
    "    def __init__(self, filters, strides, M=2, G=32, r=16, L=32):\r\n",
    "        \"\"\" Constructor\r\n",
    "        Args:\r\n",
    "            M: the number of branchs.\r\n",
    "            G: num of convolution groups.\r\n",
    "            r: the ratio for compute d, the length of z.\r\n",
    "            L: the minimum dim of the vector z in paper, default 32.\r\n",
    "        \"\"\"\r\n",
    "        super().__init__()\r\n",
    "        self.M = M\r\n",
    "        self.filters = filters\r\n",
    "\r\n",
    "        self.convs = []  # 各分支的卷積層\r\n",
    "        for i in range(M):\r\n",
    "            self.convs.append(models.Sequential([\r\n",
    "                layers.Conv2D(filters, 3+2*i, strides,\r\n",
    "                              padding='same', groups=G),\r\n",
    "                layers.BatchNormalization(),\r\n",
    "                layers.Activation('relu'),\r\n",
    "            ]))\r\n",
    "\r\n",
    "        self.gap = layers.GlobalAveragePooling2D()\r\n",
    "        self.fc = layers.Dense(max(filters//r, L))\r\n",
    "        self.fcs = []\r\n",
    "        for i in range(M):\r\n",
    "          self.fcs.append(layers.Dense(filters))\r\n",
    "\r\n",
    "    def call(self, input):\r\n",
    "        # 計算不同分支的 U\r\n",
    "        for i in range(self.M):\r\n",
    "            feat = self.convs[i](input)\r\n",
    "            feat = tf.expand_dims(feat, axis=-1)\r\n",
    "            feats_U = feat if i == 0 else tf.concat([feats_U, feat], axis=-1)\r\n",
    "\r\n",
    "        # feats_U (H, W, filters, M)\r\n",
    "\r\n",
    "        # 對 U 做全局平均池化得到 s\r\n",
    "        feats_s = self.gap(tf.reduce_sum(feats_U, axis=-1))\r\n",
    "\r\n",
    "        # s 經過全連結層可以得到 z\r\n",
    "        feats_Z = self.fc(feats_s)\r\n",
    "\r\n",
    "        for i in range(self.M):\r\n",
    "            fcs = self.fcs[i](feats_Z)\r\n",
    "            att_vec = fcs if i == 0 else tf.concat([att_vec, fcs], axis=-1)\r\n",
    "\r\n",
    "        att_vec = layers.Reshape((1, 1, self.filters, self.M))(att_vec)\r\n",
    "        att_vec = tf.nn.softmax(att_vec, axis=-1)\r\n",
    "\r\n",
    "        # att_vec (1, 1, filters, M)\r\n",
    "\r\n",
    "        mul = tf.multiply(feats_U, att_vec)\r\n",
    "\r\n",
    "        return tf.reduce_sum(mul, axis=-1)\r\n"
   ],
   "outputs": [],
   "metadata": {}
  },
  {
   "cell_type": "code",
   "execution_count": 10,
   "source": [
    "class SKConv(tf.keras.Model):\r\n",
    "    def __init__(self, filters, strides, M=2, G=32, r=16, L=32):\r\n",
    "        super().__init__()\r\n",
    "        self.filters = filters\r\n",
    "        self.strides = strides\r\n",
    "\r\n",
    "        #----------------------------- conv1x1_1 -----------------------------\r\n",
    "        self.conv1x1_1 = layers.Conv2D(filters, 1, 1)\r\n",
    "        self.bn1 = layers.BatchNormalization()\r\n",
    "\r\n",
    "        #------------------------------ middle -------------------------------\r\n",
    "        self.skunit = SKUnit(filters, strides, M, G, r, L)\r\n",
    "        self.bn2 = layers.BatchNormalization()\r\n",
    "\r\n",
    "        #----------------------------- conv1x1_2 -----------------------------\r\n",
    "        self.conv1x1_2 = layers.Conv2D(filters*2, 1, 1)\r\n",
    "        self.bn3 = layers.BatchNormalization()\r\n",
    "\r\n",
    "    def build(self, input_shape):\r\n",
    "        if input_shape[-1] != self.filters*2:\r\n",
    "            self.shortcut = models.Sequential([\r\n",
    "                layers.Conv2D(self.filters*2, 1, self.strides),\r\n",
    "                layers.BatchNormalization()\r\n",
    "            ])\r\n",
    "        else:\r\n",
    "            self.shortcut = models.Sequential()\r\n",
    "\r\n",
    "    def call(self, input):\r\n",
    "        x = input\r\n",
    "        x = self.conv1x1_1(x)\r\n",
    "        x = self.bn1(x)\r\n",
    "        x = tf.nn.relu(x)\r\n",
    "\r\n",
    "        x = self.skunit(x)\r\n",
    "        x = self.bn2(x)\r\n",
    "\r\n",
    "        x = self.conv1x1_2(x)\r\n",
    "        x = self.bn3(x)\r\n",
    "        x = tf.nn.relu(x)\r\n",
    "\r\n",
    "        shortcut = self.shortcut(input)\r\n",
    "\r\n",
    "        return tf.nn.relu(tf.add(x, shortcut))\r\n"
   ],
   "outputs": [],
   "metadata": {}
  },
  {
   "cell_type": "code",
   "execution_count": 11,
   "source": [
    "def stage(input, filters, strides, repeat, M=2, G=32, r=16, L=32):\r\n",
    "    x = SKConv(filters, strides, M, G, r, L)(input)\r\n",
    "\r\n",
    "    for _ in range(1, repeat):\r\n",
    "        x = SKConv(filters, 1, M, G, r, L)(x)\r\n",
    "\r\n",
    "    return x\r\n"
   ],
   "outputs": [],
   "metadata": {}
  },
  {
   "cell_type": "code",
   "execution_count": 12,
   "source": [
    "def SKNet(input_shape, outputs=10):\r\n",
    "    input = layers.Input(shape=input_shape)\r\n",
    "    x = layers.BatchNormalization()(input)\r\n",
    "    x = layers.Conv2D(64, 7, strides=2, padding='same')(x)\r\n",
    "    x = layers.BatchNormalization()(x)\r\n",
    "    x = layers.Activation('relu')(x)\r\n",
    "    x = layers.MaxPooling2D((3, 3), strides=2, padding='same')(x)\r\n",
    "\r\n",
    "    x = stage(x, filters=128, strides=1, repeat=3)\r\n",
    "    x = stage(x, filters=256, strides=2, repeat=4)\r\n",
    "    x = stage(x, filters=512, strides=2, repeat=6)\r\n",
    "    x = stage(x, filters=1024, strides=2, repeat=3)\r\n",
    "\r\n",
    "    x = layers.GlobalAveragePooling2D()(x)\r\n",
    "    x = layers.Dense(outputs, activation = 'softmax')(x)\r\n",
    "\r\n",
    "    return models.Model(input, x)\r\n"
   ],
   "outputs": [],
   "metadata": {}
  },
  {
   "cell_type": "code",
   "execution_count": 13,
   "source": [
    "import gc\r\n",
    "tf.keras.backend.clear_session()\r\n",
    "gc.collect()\r\n"
   ],
   "outputs": [
    {
     "output_type": "execute_result",
     "data": {
      "text/plain": [
       "6890"
      ]
     },
     "metadata": {},
     "execution_count": 13
    }
   ],
   "metadata": {}
  },
  {
   "cell_type": "code",
   "execution_count": 14,
   "source": [
    "m = SKNet((224, 224, 3), outputs=1000)\r\n",
    "m.summary()"
   ],
   "outputs": [
    {
     "output_type": "stream",
     "name": "stdout",
     "text": [
      "Model: \"model\"\n",
      "_________________________________________________________________\n",
      "Layer (type)                 Output Shape              Param #   \n",
      "=================================================================\n",
      "input_1 (InputLayer)         [(None, 224, 224, 3)]     0         \n",
      "_________________________________________________________________\n",
      "batch_normalization (BatchNo (None, 224, 224, 3)       12        \n",
      "_________________________________________________________________\n",
      "conv2d (Conv2D)              (None, 112, 112, 64)      9472      \n",
      "_________________________________________________________________\n",
      "batch_normalization_1 (Batch (None, 112, 112, 64)      256       \n",
      "_________________________________________________________________\n",
      "activation (Activation)      (None, 112, 112, 64)      0         \n",
      "_________________________________________________________________\n",
      "max_pooling2d (MaxPooling2D) (None, 56, 56, 64)        0         \n",
      "_________________________________________________________________\n",
      "sk_conv (SKConv)             (None, 56, 56, 256)       92320     \n",
      "_________________________________________________________________\n",
      "sk_conv_1 (SKConv)           (None, 56, 56, 256)       99232     \n",
      "_________________________________________________________________\n",
      "sk_conv_2 (SKConv)           (None, 56, 56, 256)       99232     \n",
      "_________________________________________________________________\n",
      "sk_conv_3 (SKConv)           (None, 28, 28, 512)       432416    \n",
      "_________________________________________________________________\n",
      "sk_conv_4 (SKConv)           (None, 28, 28, 512)       364320    \n",
      "_________________________________________________________________\n",
      "sk_conv_5 (SKConv)           (None, 28, 28, 512)       364320    \n",
      "_________________________________________________________________\n",
      "sk_conv_6 (SKConv)           (None, 28, 28, 512)       364320    \n",
      "_________________________________________________________________\n",
      "sk_conv_7 (SKConv)           (None, 14, 14, 1024)      1659424   \n",
      "_________________________________________________________________\n",
      "sk_conv_8 (SKConv)           (None, 14, 14, 1024)      1392160   \n",
      "_________________________________________________________________\n",
      "sk_conv_9 (SKConv)           (None, 14, 14, 1024)      1392160   \n",
      "_________________________________________________________________\n",
      "sk_conv_10 (SKConv)          (None, 14, 14, 1024)      1392160   \n",
      "_________________________________________________________________\n",
      "sk_conv_11 (SKConv)          (None, 14, 14, 1024)      1392160   \n",
      "_________________________________________________________________\n",
      "sk_conv_12 (SKConv)          (None, 14, 14, 1024)      1392160   \n",
      "_________________________________________________________________\n",
      "sk_conv_13 (SKConv)          (None, 7, 7, 2048)        6595648   \n",
      "_________________________________________________________________\n",
      "sk_conv_14 (SKConv)          (None, 7, 7, 2048)        5536832   \n",
      "_________________________________________________________________\n",
      "sk_conv_15 (SKConv)          (None, 7, 7, 2048)        5536832   \n",
      "_________________________________________________________________\n",
      "global_average_pooling2d_16  (None, 2048)              0         \n",
      "_________________________________________________________________\n",
      "dense_48 (Dense)             (None, 1000)              2049000   \n",
      "=================================================================\n",
      "Total params: 30,164,436\n",
      "Trainable params: 30,065,998\n",
      "Non-trainable params: 98,438\n",
      "_________________________________________________________________\n"
     ]
    }
   ],
   "metadata": {}
  }
 ],
 "metadata": {
  "orig_nbformat": 4,
  "language_info": {
   "name": "python",
   "version": "3.8.0",
   "mimetype": "text/x-python",
   "codemirror_mode": {
    "name": "ipython",
    "version": 3
   },
   "pygments_lexer": "ipython3",
   "nbconvert_exporter": "python",
   "file_extension": ".py"
  },
  "kernelspec": {
   "name": "python3",
   "display_name": "Python 3.8.0 64-bit"
  },
  "interpreter": {
   "hash": "2db524e06e9f5f4ffedc911c917cb75e12dbc923643829bf417064a77eb14d37"
  }
 },
 "nbformat": 4,
 "nbformat_minor": 2
}